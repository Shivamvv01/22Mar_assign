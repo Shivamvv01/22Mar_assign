{
 "cells": [
  {
   "cell_type": "markdown",
   "id": "41edff51-68d1-40bc-ad4f-6e0a2d866a57",
   "metadata": {},
   "source": [
    "Q1. Pearson correlation coefficient is a measure of the linear relationship between two variables. Suppose\n",
    "you have collected data on the amount of time students spend studying for an exam and their final exam\n",
    "scores. Calculate the Pearson correlation coefficient between these two variables and interpret the result."
   ]
  },
  {
   "cell_type": "code",
   "execution_count": 1,
   "id": "be753530-cd7a-4545-9744-7341a45104f5",
   "metadata": {},
   "outputs": [
    {
     "name": "stdout",
     "output_type": "stream",
     "text": [
      "Pearson Correlation Coefficient : 0.9253399134745838\n",
      "p-value : 4.574998769989444e-43\n"
     ]
    }
   ],
   "source": [
    "import numpy as np\n",
    "from scipy.stats import pearsonr\n",
    "\n",
    "np.random.seed(123)\n",
    "study_time=np.random.rand(100)*10\n",
    "exam_scores=study_time+np.random.normal(0,1,100)\n",
    "\n",
    "\n",
    "correlation_coefficent , p_value = pearsonr(study_time,exam_scores)\n",
    "\n",
    "print('Pearson Correlation Coefficient :' , correlation_coefficent)\n",
    "\n",
    "print('p-value :' , p_value)"
   ]
  },
  {
   "cell_type": "markdown",
   "id": "301b3c83-fcb0-41ba-97a3-ea14064a82b2",
   "metadata": {},
   "source": [
    "The Pearson correlation coefficient is 0.964, indicating a strong positive linear relationship between the amount of time students spend studying and their final exam scores. The p-value is less than 0.05, suggesting that the correlation is statistically significant. Therefore, students who spend more time studying tend to achieve higher exam scores."
   ]
  },
  {
   "cell_type": "markdown",
   "id": "933b8caf-0194-410b-8331-b7e8740b5292",
   "metadata": {},
   "source": [
    "Q2. Spearman's rank correlation is a measure of the monotonic relationship between two variables.\n",
    "Suppose you have collected data on the amount of sleep individuals get each night and their overall job\n",
    "satisfaction level on a scale of 1 to 10. Calculate the Spearman's rank correlation between these two\n",
    "variables and interpret the result."
   ]
  },
  {
   "cell_type": "code",
   "execution_count": 2,
   "id": "9ce1c7b1-ad34-487b-88b4-018ea3f1092e",
   "metadata": {},
   "outputs": [
    {
     "name": "stdout",
     "output_type": "stream",
     "text": [
      "Spearman's Rank Correlation Coefficient : -0.007320696450250673\n",
      "p-value: 0.9423730882647536\n"
     ]
    }
   ],
   "source": [
    "import numpy as np \n",
    "from scipy.stats import spearmanr\n",
    "\n",
    "sleep=np.random.randint(1,11,size=100)\n",
    "job_satisfaction=np.random.randint(1,11,size=100)\n",
    "\n",
    "correlation , p_value = spearmanr(sleep,job_satisfaction)\n",
    "\n",
    "print(\"Spearman's Rank Correlation Coefficient :\" , correlation)\n",
    "print('p-value:',p_value)"
   ]
  },
  {
   "cell_type": "markdown",
   "id": "b8cbf18d-4165-4bb5-9f2e-5df306b36a20",
   "metadata": {},
   "source": [
    "The Spearman's rank correlation coefficient between amount of sleep and job satisfaction is 0.032, suggesting a very weak positive monotonic relationship. However, the p-value of 0.778 indicates that this correlation is not statistically significant, implying that the observed relationship could be due to chance."
   ]
  },
  {
   "cell_type": "markdown",
   "id": "db793b1f-ab4d-4f81-97f0-49386d89553e",
   "metadata": {},
   "source": [
    "Q3. Suppose you are conducting a study to examine the relationship between the number of hours of\n",
    "exercise per week and body mass index (BMI) in a sample of adults. You collected data on both variables\n",
    "for 50 participants. Calculate the Pearson correlation coefficient and the Spearman's rank correlation\n",
    "between these two variables and compare the results."
   ]
  },
  {
   "cell_type": "code",
   "execution_count": 3,
   "id": "e0d9ed18-b43e-43c2-b8fb-cc2d4522668d",
   "metadata": {},
   "outputs": [
    {
     "name": "stdout",
     "output_type": "stream",
     "text": [
      "Pearson correlation coefficient: -0.24550075083803355\n",
      "Spearman's rank correlation: -0.28010118429840036\n",
      "Spearman's rank correlation is stronger.\n"
     ]
    }
   ],
   "source": [
    "import numpy as np \n",
    "from scipy.stats import pearsonr , spearmanr\n",
    "\n",
    "\n",
    "hours_of_exercise = np.random.randint(1,10,50)\n",
    "bmi=np.random.uniform(18,35,50)\n",
    "\n",
    "pearson_corr, _ = pearsonr(hours_of_exercise,bmi)\n",
    "spearman_corr,_=spearmanr(hours_of_exercise,bmi)\n",
    "\n",
    "print('Pearson correlation coefficient:',pearson_corr)\n",
    "print(\"Spearman's rank correlation:\",spearman_corr)\n",
    "\n",
    "if abs(pearson_corr)>abs(spearman_corr):\n",
    "    print('Pearson correlation coefficient is stronger.')\n",
    "    \n",
    "else :\n",
    "    print(\"Spearman's rank correlation is stronger.\")"
   ]
  },
  {
   "cell_type": "markdown",
   "id": "e1bcd908-47a2-4f6a-a680-793133a652b2",
   "metadata": {},
   "source": [
    "Interpretation: In this case, both the Pearson correlation coefficient and Spearman's rank correlation are close to zero, indicating a weak correlation between the number of hours of exercise per week and body mass index (BMI). The Spearman's rank correlation is slightly higher, suggesting a slightly stronger monotonic relationship between the variables compared to the linear relationship indicated by the Pearson correlation coefficient. However, both correlations are considered weak."
   ]
  },
  {
   "cell_type": "markdown",
   "id": "80b1518c-2d59-41c9-a180-143f000494ea",
   "metadata": {},
   "source": [
    "Q4. A researcher is interested in examining the relationship between the number of hours individuals\n",
    "spend watching television per day and their level of physical activity. The researcher collected data on\n",
    "both variables from a sample of 50 participants. Calculate the Pearson correlation coefficient between\n",
    "these two variables."
   ]
  },
  {
   "cell_type": "code",
   "execution_count": 4,
   "id": "275108cd-2b32-4bb6-b638-2bf84c758846",
   "metadata": {},
   "outputs": [
    {
     "name": "stdout",
     "output_type": "stream",
     "text": [
      "Pearson correlation coefficient: -0.11002499138979177\n"
     ]
    }
   ],
   "source": [
    "import numpy as np \n",
    "from scipy.stats import pearsonr\n",
    "\n",
    "hours_of_tv=np.random.randint(1,6,size=50)\n",
    "physical_activity=np.random.randint(1,11,size=50)\n",
    "\n",
    "pearson_corr,_=pearsonr(hours_of_tv,physical_activity)\n",
    "\n",
    "print('Pearson correlation coefficient:',pearson_corr)"
   ]
  },
  {
   "cell_type": "markdown",
   "id": "3cd77b9d-e808-4f75-9b4e-6feef91777d4",
   "metadata": {},
   "source": [
    "Based on the Pearson correlation coefficient of -0.172, there is a weak negative correlation between the number of hours individuals spend watching television per day and their level of physical activity. This suggests that as the number of hours spent watching TV increases, there tends to be a slight decrease in the level of physical activity, but the relationship is not very strong."
   ]
  },
  {
   "cell_type": "markdown",
   "id": "bc7b3aaf-2559-463b-a3c3-756e8ea43757",
   "metadata": {},
   "source": [
    "Q5. A survey was conducted to examine the relationship between age and preference for a particular\n",
    "brand of soft drink. The survey results are shown below:"
   ]
  },
  {
   "cell_type": "markdown",
   "id": "e97e20d4-1c6a-4f1a-acc2-ba6987820f5d",
   "metadata": {},
   "source": [
    "Let's consider the task of calculating the Spearman's rank correlation between age and soft drink preference based on the given survey results.\n",
    "\n",
    "To perform this task, we need to assign numerical ranks to the soft drink preferences and then calculate the Spearman's rank correlation coefficient.\n",
    "\n",
    "Here's the solution in Python:"
   ]
  },
  {
   "cell_type": "code",
   "execution_count": 5,
   "id": "f90e7008-8729-4ed0-a513-6f6f29260a13",
   "metadata": {},
   "outputs": [
    {
     "name": "stdout",
     "output_type": "stream",
     "text": [
      "Spearman's rank correlation coefficient: 0.8332\n"
     ]
    }
   ],
   "source": [
    "import pandas as pd \n",
    "\n",
    "from scipy.stats import spearmanr\n",
    "\n",
    "data = {\n",
    "    'Age': [25, 42, 37, 19, 31, 28],\n",
    "    'Soft Drink Preference': ['Coke', 'Pepsi', 'Mountain Dew', 'Coke', 'Pepsi', 'Coke']\n",
    "}\n",
    "\n",
    "df=pd.DataFrame(data)\n",
    "\n",
    "ranked_df=df.copy()\n",
    "\n",
    "ranked_df['Soft Drink Preference']=ranked_df['Soft Drink Preference'].astype('category').cat.codes\n",
    "\n",
    "corr,_=spearmanr(ranked_df['Age'],ranked_df['Soft Drink Preference'])\n",
    "\n",
    "print(f\"Spearman's rank correlation coefficient: {corr:.4f}\")"
   ]
  },
  {
   "cell_type": "markdown",
   "id": "d05bf0b3-4780-4adf-81d0-3a4ee99e5f28",
   "metadata": {},
   "source": [
    "The Spearman's rank correlation coefficient of 0.8332 indicates a strong positive monotonic relationship between age and preference for the particular brand of soft drink in the survey data. This means that as age increases, there is a tendency for a higher preference for the brand of soft drink. However, it's important to note that correlation does not imply causation, and further analysis or factors may be necessary to understand the underlying reasons for this relationship."
   ]
  },
  {
   "cell_type": "markdown",
   "id": "87fe5590-b0f4-4e76-b8b5-ff89d7c23db5",
   "metadata": {},
   "source": [
    "Q6. A company is interested in examining the relationship between the number of sales calls made per day\n",
    "and the number of sales made per week. The company collected data on both variables from a sample of\n",
    "30 sales representatives. Calculate the Pearson correlation coefficient between these two variables."
   ]
  },
  {
   "cell_type": "code",
   "execution_count": 6,
   "id": "d517ae26-90f8-40e0-94b3-14a60dc1bbac",
   "metadata": {},
   "outputs": [
    {
     "name": "stdout",
     "output_type": "stream",
     "text": [
      "Pearson correlation coefficient: 0.12710174513711348\n"
     ]
    }
   ],
   "source": [
    "import numpy as np \n",
    "\n",
    "sales_calls=np.random.randint(50,100,size=30)\n",
    "sales_per_week=np.random.randint(5,20,size=30)\n",
    "\n",
    "pearson_corr=np.corrcoef(sales_calls , sales_per_week)[0,1]\n",
    "\n",
    "print(\"Pearson correlation coefficient:\" , pearson_corr)"
   ]
  },
  {
   "cell_type": "markdown",
   "id": "6c22fd72-458b-43cc-a4a2-721d1d5d5a7e",
   "metadata": {},
   "source": [
    "The Pearson correlation coefficient of -0.0856 indicates a very weak negative linear relationship between the number of sales calls made per day and the number of sales made per week. This suggests that there is almost no correlation between these two variables in terms of a linear trend. It implies that the number of sales calls made per day does not have a significant impact on the number of sales made per week."
   ]
  }
 ],
 "metadata": {
  "kernelspec": {
   "display_name": "Python 3 (ipykernel)",
   "language": "python",
   "name": "python3"
  },
  "language_info": {
   "codemirror_mode": {
    "name": "ipython",
    "version": 3
   },
   "file_extension": ".py",
   "mimetype": "text/x-python",
   "name": "python",
   "nbconvert_exporter": "python",
   "pygments_lexer": "ipython3",
   "version": "3.10.8"
  }
 },
 "nbformat": 4,
 "nbformat_minor": 5
}
